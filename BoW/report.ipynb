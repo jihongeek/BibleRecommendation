{
 "cells": [
  {
   "cell_type": "markdown",
   "source": [
    "# BoW과 코사인 유사도를 통한 창세기 장별 연관도 분석"
   ],
   "metadata": {}
  },
  {
   "cell_type": "markdown",
   "source": [
    "### 모듈 임포트, 경로설정"
   ],
   "metadata": {}
  },
  {
   "cell_type": "code",
   "execution_count": 1,
   "source": [
    "from bow import *\n",
    "from preprocessing import bibleToDict\n",
    "from glob import glob\n",
    "import os\n",
    "\n",
    "os.chdir(\"../\")\n",
    "os.chdir(\"./bible/KJV/Genesis\")"
   ],
   "outputs": [],
   "metadata": {}
  },
  {
   "cell_type": "code",
   "execution_count": 2,
   "source": [
    "chapters = glob(\"*.txt\")"
   ],
   "outputs": [],
   "metadata": {}
  },
  {
   "cell_type": "code",
   "execution_count": 5,
   "source": [
    "similarityDict = dict()\n",
    "for i in range(1,50+1):\n",
    "    dict1 = bibleToDict(f\"{i}.txt\")\n",
    "    for j in range(i+1,50+1):\n",
    "        dict2 = bibleToDict(f\"{j}.txt\")\n",
    "        similarityDict[i,j] = getCosineSimilarity(dict1,dict2)\n",
    "similarityList = sorted(similarityDict.items(), key=lambda x : x[1])\n",
    "similarityList.reverse()\n",
    "for i in similarityList[:10]:\n",
    "    print(f\"{i[0]}의 유사도 : {i[1]}\")"
   ],
   "outputs": [
    {
     "output_type": "stream",
     "name": "stdout",
     "text": [
      "(29, 30)의 유사도 : 0.7293759004917285\n",
      "(45, 50)의 유사도 : 0.7278330221846847\n",
      "(5, 11)의 유사도 : 0.7213915643700272\n",
      "(21, 22)의 유사도 : 0.7069620991471519\n",
      "(45, 47)의 유사도 : 0.6989842009084685\n",
      "(7, 8)의 유사도 : 0.6962680588692604\n",
      "(42, 45)의 유사도 : 0.6907933066577622\n",
      "(42, 44)의 유사도 : 0.682035908523431\n",
      "(41, 47)의 유사도 : 0.6768597965245556\n",
      "(30, 31)의 유사도 : 0.6745676361717299\n"
     ]
    }
   ],
   "metadata": {}
  },
  {
   "cell_type": "code",
   "execution_count": null,
   "source": [
    "\n"
   ],
   "outputs": [],
   "metadata": {}
  }
 ],
 "metadata": {
  "kernelspec": {
   "display_name": "Python 3 (ipykernel)",
   "language": "python",
   "name": "python3"
  },
  "language_info": {
   "codemirror_mode": {
    "name": "ipython",
    "version": 3
   },
   "file_extension": ".py",
   "mimetype": "text/x-python",
   "name": "python",
   "nbconvert_exporter": "python",
   "pygments_lexer": "ipython3",
   "version": "3.9.0"
  }
 },
 "nbformat": 4,
 "nbformat_minor": 5
}